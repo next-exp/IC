{
 "cells": [
  {
   "cell_type": "markdown",
   "metadata": {
    "collapsed": false
   },
   "source": [
    "# Diomira NB"
   ]
  },
  {
   "cell_type": "markdown",
   "metadata": {
    "collapsed": false
   },
   "source": [
    "This notebook describes the city of DIOMIRA, which simulates NEXT energy and tracking plane response (sensors and electronics).\n",
    "\n",
    "author: J.J. Gomez-Cadenas\n"
   ]
  },
  {
   "cell_type": "code",
   "execution_count": null,
   "metadata": {
    "collapsed": false
   },
   "outputs": [],
   "source": [
    "import datetime"
   ]
  },
  {
   "cell_type": "code",
   "execution_count": null,
   "metadata": {
    "collapsed": false
   },
   "outputs": [],
   "source": [
    "print(datetime.datetime.now().strftime('%Y-%m-%d %H:%M:%S'))"
   ]
  },
  {
   "cell_type": "markdown",
   "metadata": {
    "collapsed": false
   },
   "source": [
    "## DIOMIRA (Calvino, invisible cities)\n",
    "\n",
    "Leaving there and proceeding for three days toward the east, you reach Diomira,\n",
    "a city with sixty silver domes, bronze statues of all the gods, streets paved\n",
    "with lead, a crystal theater, a golden cock that crows every morning on a\n",
    "tower. All these beauties will already be familiar to the visitor, who has seen\n",
    "them also in other cities. But the special quality of this city for the man who\n",
    "arrives there on a September evening, when the days are growing shorter and the\n",
    "multicolored lamps are lighted all at once at the doors of the food stalls and\n",
    "from a terrace a woman's voice cries ooh!, is that he feels envy toward those\n",
    "who now believe they have once before lived an evening identical to this and\n",
    "who think they were happy, that time."
   ]
  },
  {
   "cell_type": "markdown",
   "metadata": {
    "collapsed": false
   },
   "source": [
    "## The IC city of DIOMIRA"
   ]
  },
  {
   "cell_type": "markdown",
   "metadata": {
    "collapsed": false
   },
   "source": [
    "Diomira simulates the response of the energy plane and tracking plane sensors.\n",
    "\n",
    "The response of the NEXT detector to ionizing radiation (e.g, an interaction produced by a bb decay or a background event such as a photon or alpha particle interaction) is, in general, an ionization trail. For example, a 2.5 MeV electron produced by a bb decay or a photoelectric interaction induced by a high-energy gamma produced in the Bi-214 chain, propagates by some 10-20 cm in dense gas (at a pressure of ~10 bar). Ionization electrons ejected through the electron path will drift towards the anode and will be amplified in the EL grid. Each ionization electron produces up to 1,000 photons (depending on EL field), which are emitted isotropically, thus reaching the sensors in the anode (SiPMs) and in the cathode (PMTs).\n",
    "\n",
    "The input to DIMORA are the so-called Monte Carlo Raw Data (MCRD) files, produced by the NEXUS simulation. The MCRD files describe the \"true response\" of the NEXT sensors to the photon irradiation associated with an event. Photons are propagated through the chamber, and those reaching the sensors are eventually converted in a physical signal (photoelectrons or PES). The MCRD files contain vectors of PES for each sensor in the anode (tracking plane) and cathode (energy plane). The sampling rate in the PMTs of the energy plane is 1 ns (to allow a detailed simulation of the response of the front-end electronics, which runs at 40 MHz), while the sampling rate in the SiPMs is 1 mus, corresponding to the sampling rate of 1MHZ.\n",
    "\n",
    "The response of the energy plane is simulated by the function:\n",
    "\n",
    "**simulate_pmt_response(event, pmtrd)** which takes as arguments the event number and a vector of raw-data waveforms (input current in photoelectrons, sampled each ns, for each PMT in the energy plane). \n",
    "\n",
    "while the response of the tracking plane is simulated by the function:\n",
    "\n",
    "**simulate_sipm_response(event, sipmrd, sipms_noise_sampler)** which takes as arguments the event number a vector of raw-data waveforms (input current in photoelectrons, sampled each mus, for each SiPM in the energy plane), and an instance of a noiser class that adds noise to each SiPM. \n",
    "\n",
    "Both functions are described below in more detail below.\n",
    "\n",
    "The output of **simulate_pmt_response** is a vector of containing NPMT waveforms (where NPMT is the number of PMTs in the energy plane). Each waveform is a vector of (tipically) 48,000 samples, corresponding to a DAQ window of 1.2 ms at a sampling rate of 40 MHz. The RWFs represent the response of the energy plane front-end electronics (FEE) to the input photoelectron current. The RWF include the effect of the FEE (convolution with LPF and HPF filters), the effect of the DAQ (sampling at 25 ns), and add the noise of FEE and DAQ. The details of the simulation are described elswhere. \n",
    "\n",
    "The RWFs are stored in a 3D array called \n",
    "**pmtrwf([event] [npmt] [waveform])**\n",
    " \n",
    "\n",
    "In addition to pmtwrf, function **simulate_pmt_response** also produces a vector **pmtblr([event] [npmt] [waveform])**. \n",
    "\n",
    "The so called basline restored (or BLR) waveforms correspond to the case of an ideal electronic which does not distort the input waveform (e.g, the photoelectron current). \n",
    "\n",
    "The output of **simulate_sipm_response** is a vector containing NSiPM waveforms (where NSiPM is the number of SiPMs in the tracking plane). Each waveform is a vector of (tipically) 1200 samples, corresponding to a DAQ window of 1.2 ms at a sampling rate of 1 MHz. This is stored in a 3D array called \n",
    "**sipmrwf([event] [npmt] [waveform])**\n",
    "\n"
   ]
  },
  {
   "cell_type": "markdown",
   "metadata": {
    "collapsed": false
   },
   "source": [
    "## simulate_pmt_response\n",
    "\n",
    "1. Instances of **SPE** (single photoelectron) and **FEE** (front-end electronics) classes.\n",
    "\n",
    "**spe = FE.SPE()**\n",
    "       \n",
    "**fee = FE.FEE(noise_FEEPMB_rms=FE.NOISE_I, noise_DAQ_rms=FE.NOISE_DAQ)**\n",
    "\n",
    "2. Loop over all PMTs in the energy plane. For each PMT:\n",
    "\n",
    "1. The input (true) current is computed as the convolution of the waveform of single photoelectrons (pmtrd) with the pulse (signal current) corresponding to a single photoelectron (SPE) \n",
    "\n",
    "**signal_i = FE.spe_pulse_from_vector(spe, pmtrd[event, pmt])**\n",
    "\n",
    "2. The effect of the DAQ is simulated, decimating the input signal\n",
    "\n",
    "**signal_d = FE.daq_decimator(FE.f_mc, FE.f_sample, signal_i)**\n",
    "\n",
    "3. Effect of FEE and transform to adc counts\n",
    "\n",
    "**signal_fee = FE.signal_v_fee(fee, signal_d, pmt) * FE.v_to_adc()**\n",
    "\n",
    "4. Add noise daq\n",
    "            \n",
    "**signal_daq = cc * FE.noise_adc(fee, signal_fee)**\n",
    "\n",
    "5. The RWF are baseline-shifted and sign-changed (to conform to data format)\n",
    "**FE.OFFSET - signal_daq**\n",
    "\n",
    "6. Compute BLR functions (LPF only no HPF)\n",
    "\n",
    "Return a vector of RWF (one element per RWF) and a vector of BLR (one element per BLR)\n"
   ]
  },
  {
   "cell_type": "markdown",
   "metadata": {
    "collapsed": false
   },
   "source": [
    "## SiPM response\n",
    "\n",
    "The simulation of the SiPM response simply adds noise (electronics and dark current noise) to the true photoelectrons and returns the total signal in adc counts\n",
    "\n",
    "**dataSiPM = sipmrd[event] + sipms_noise_sampler.Sample()**\n",
    "\n",
    "The noise sampler stores PDFs of each SiPM total noise. For each event those PDFs are sampled and the resulting noise added to the signal. \n",
    "        "
   ]
  },
  {
   "cell_type": "code",
   "execution_count": null,
   "metadata": {
    "collapsed": false
   },
   "outputs": [],
   "source": [
    "from __future__ import print_function\n",
    "import sys\n",
    "import os\n",
    "from time import time"
   ]
  },
  {
   "cell_type": "code",
   "execution_count": null,
   "metadata": {
    "collapsed": false
   },
   "outputs": [],
   "source": [
    "%matplotlib inline\n",
    "%load_ext autoreload\n",
    "%autoreload 2\n",
    "import matplotlib.pyplot as plt\n",
    "import pandas as pd\n",
    "import tables as tb\n",
    "import numpy as np\n",
    "import math"
   ]
  },
  {
   "cell_type": "code",
   "execution_count": null,
   "metadata": {
    "collapsed": false
   },
   "outputs": [],
   "source": [
    "import invisible_cities.core.tbl_functions as tbl\n",
    "import invisible_cities.core.mpl_functions as mpl\n",
    "import invisible_cities.core.wfm_functions as wfm\n",
    "from invisible_cities.core.random_sampling\\\n",
    "     import NoiseSampler as SiPMsNoiseSampler\n",
    "from invisible_cities.database import load_db\n",
    "import invisible_cities.core.sensor_functions as snf"
   ]
  },
  {
   "cell_type": "code",
   "execution_count": null,
   "metadata": {
    "collapsed": false
   },
   "outputs": [],
   "source": [
    "from invisible_cities.cities.diomira import Diomira\n",
    "import invisible_cities.sierpe.blr as blr\n",
    "from   invisible_cities.core.system_of_units_c import SystemOfUnits"
   ]
  },
  {
   "cell_type": "code",
   "execution_count": null,
   "metadata": {
    "collapsed": false
   },
   "outputs": [],
   "source": [
    "DataPMT = load_db.DataPMT()"
   ]
  },
  {
   "cell_type": "code",
   "execution_count": null,
   "metadata": {
    "collapsed": false
   },
   "outputs": [],
   "source": [
    "units = SystemOfUnits()"
   ]
  },
  {
   "cell_type": "code",
   "execution_count": null,
   "metadata": {
    "collapsed": false
   },
   "outputs": [],
   "source": [
    "from invisible_cities.core.core_functions import define_window\n",
    "from invisible_cities.core.core_functions import lrange"
   ]
  },
  {
   "cell_type": "markdown",
   "metadata": {
    "collapsed": false
   },
   "source": [
    "### Input  files"
   ]
  },
  {
   "cell_type": "markdown",
   "metadata": {
    "collapsed": false
   },
   "source": [
    "Required files (in IC_DATA)\n",
    "1. **electrons_40keV_z250_MCRD.h5** \n",
    "2. **electrons_511keV_z250_MCRD.h5**\n",
    "3. **electrons_1250keV_z250_MCRD.h5**\n",
    "4. **electrons_2500keV_z250_MCRD.h5**\n"
   ]
  },
  {
   "cell_type": "markdown",
   "metadata": {
    "collapsed": false
   },
   "source": [
    "### Output  files"
   ]
  },
  {
   "cell_type": "markdown",
   "metadata": {
    "collapsed": false
   },
   "source": [
    "Will be writen in IC_DATA\n",
    "\n",
    "1. **electrons_40keV_z250_RWF.h5** \n",
    "2. **electrons_511keV_z250_RWF.h5**\n",
    "3. **electrons_1250keV_z250_RWF.h5**\n",
    "4. **electrons_2500keV_z250_RWF.h5**\n",
    "\n"
   ]
  },
  {
   "cell_type": "markdown",
   "metadata": {
    "collapsed": false
   },
   "source": [
    "## Case 1: electrons of 40 keV"
   ]
  },
  {
   "cell_type": "markdown",
   "metadata": {
    "collapsed": false
   },
   "source": [
    "Electrons of 40 keV interacting in the chamber are a close approx to krypton decays. The S1 signal is quite wek, and the events are point-like, with narrow S2s. "
   ]
  },
  {
   "cell_type": "code",
   "execution_count": null,
   "metadata": {
    "collapsed": false
   },
   "outputs": [],
   "source": [
    "MCRD_file = os.environ['IC_DATA']  + '/electrons_40keV_z250_MCRD.h5'\n",
    "RWF_file = os.environ['IC_DATA']  + '/electrons_40keV_z250_RWF.h5'"
   ]
  },
  {
   "cell_type": "markdown",
   "metadata": {
    "collapsed": false
   },
   "source": [
    "### Running diomira"
   ]
  },
  {
   "cell_type": "code",
   "execution_count": null,
   "metadata": {
    "collapsed": false
   },
   "outputs": [],
   "source": [
    "def diomira_run(mcrd_file, rwf_file,\n",
    "                sipm_noise_cut = 20 * units.pes,\n",
    "                n_print        = 1,\n",
    "                n_events       = 10):\n",
    "    \n",
    "    \"\"\"Run Diomira.\"\"\"\n",
    "\n",
    "    # init machine\n",
    "    fpp = Diomira()\n",
    "    # set machine state \n",
    "    fpp.set_input_files([mcrd_file])\n",
    "    fpp.set_output_file(rwf_file, compression='ZLIB4')\n",
    "    fpp.set_print(nprint=n_print)\n",
    "    fpp.set_sipm_noise_cut(noise_cut=sipm_noise_cut)\n",
    "\n",
    "    # run for 10 evts\n",
    "    t0 = time()\n",
    "    nevt = fpp.run(nmax=n_events)\n",
    "    t1 = time()\n",
    "    dt = t1 - t0\n",
    "    print(\"DIOMIRA run {} evts in {} s, time/event = {}\".\\\n",
    "          format(nevt, dt, dt/nevt))"
   ]
  },
  {
   "cell_type": "code",
   "execution_count": null,
   "metadata": {
    "collapsed": false
   },
   "outputs": [],
   "source": [
    "diomira_run(MCRD_file, RWF_file)"
   ]
  },
  {
   "cell_type": "markdown",
   "metadata": {
    "collapsed": false
   },
   "source": [
    "#### Diomira: speed and file size:\n",
    "\n",
    "runs at: ~0.5 s/event on i-7 processor 3.5 Ghz (speed almost certainly limited by disk access)\n",
    "files size\n",
    "\n",
    "1.1M ectrons_40keV_z250_MCRD.h5\n",
    "\n",
    "1.5M electrons_40keV_z250_RWF.h5\n",
    "\n",
    "MCRD files (produced by NEXUS MC): 110 kB/event\n",
    "RWF files (output of DIOMIRA): 150 kB/event"
   ]
  },
  {
   "cell_type": "markdown",
   "metadata": {
    "collapsed": false
   },
   "source": [
    "##  Energy plane"
   ]
  },
  {
   "cell_type": "markdown",
   "metadata": {
    "collapsed": false
   },
   "source": [
    "### Raw waveforms"
   ]
  },
  {
   "cell_type": "code",
   "execution_count": null,
   "metadata": {
    "collapsed": false
   },
   "outputs": [],
   "source": [
    "pmtrwf, pmtblr, sipmrwf = tbl.get_vectors(tb.open_file(RWF_file,'r+'))"
   ]
  },
  {
   "cell_type": "code",
   "execution_count": null,
   "metadata": {
    "collapsed": false
   },
   "outputs": [],
   "source": [
    "event = 0"
   ]
  },
  {
   "cell_type": "code",
   "execution_count": null,
   "metadata": {
    "collapsed": false
   },
   "outputs": [],
   "source": [
    "wfm.plot_pmt_waveforms(pmtrwf[event], zoom=False, window_size=400)"
   ]
  },
  {
   "cell_type": "code",
   "execution_count": null,
   "metadata": {
    "collapsed": false
   },
   "outputs": [],
   "source": [
    "wfm.plot_pmt_waveforms(pmtrwf[event], zoom=True, window_size=400)"
   ]
  },
  {
   "cell_type": "code",
   "execution_count": null,
   "metadata": {
    "collapsed": false
   },
   "outputs": [],
   "source": [
    "wfm.plot_waveforms_overlap(pmtrwf[event], zoom=True, window_size=400)"
   ]
  },
  {
   "cell_type": "markdown",
   "metadata": {
    "collapsed": false
   },
   "source": [
    "The set of plots above show, for one event:\n",
    "1. The RWFs for each PMT, where the effect of the HPF is evident (the RWF are negative in sign and with a baseline at ~2500 adc counts, to emulate the behaviour of the DAQ in real data).\n",
    "2. The RWF for the 12 PMTs of NEW superimposed, showing the differences (due to geometrical effects and calibration constants) between the response of each PMT. "
   ]
  },
  {
   "cell_type": "markdown",
   "metadata": {
    "collapsed": false
   },
   "source": [
    "### Comparison between BLR and CWF"
   ]
  },
  {
   "cell_type": "markdown",
   "metadata": {
    "collapsed": false
   },
   "source": [
    "The input to the simulation of the energy plane are MCRD waveform, e.g, vectors of photoelectrons sampled each ns. NEW has 12 PMTs (NEXT-100 has around 60). The DAQ window is tipically ~1.2 ms. Thus, MCRD vectors contain 1.2 M samples. Most of those samples are zero, however, and can be handled efficiently by a smart compressor. IC relies on the PyTable library to write data in hdf5 format. Several compressors are available and can be set at the configuration level. ZLIB at compression level 4 yields good results. \n",
    "\n",
    "Diomira reads the MCRD vectors and produces raw waveforms (RWF) sampled each 40 ns. The RWF reflect the effect of the LPF and HPF filters introduced by the front-end electronics (FEE). Diomira also produce BLR (baseline restored) waveforms, which simply add the LPF filter. BLRs correspond to the response of an ideal FEE which does not distort the waveform. \n",
    "\n",
    "CWF (corrected waveforms) are the result of passing a blr (base line restorarion) algorithm to the RWFs. If the blr algorithm is perfect, then CWF and BLR waveforms must be identical.\n",
    "\n",
    "The algorithm below does the following:\n",
    "1) Reads the RWF and BLR waveforms in the RWF file produced by the previous cell\n",
    "2) Computes CWF files passing a blr algorithm.\n",
    "3) Returns the differences (in area) between CWF and BLR"
   ]
  },
  {
   "cell_type": "code",
   "execution_count": null,
   "metadata": {
    "collapsed": false
   },
   "outputs": [],
   "source": [
    "def compare_cwf_blr(n_evt=1, plot=False, window_size=500):\n",
    "    \"\"\" 1) Reads the RWF and BLR waveforms in the RWF file produced by the previous cell\n",
    "        2) Computes CWF files passing a blr algorithm.\n",
    "        3) Returns the differences (in area) between CWF and BLR\n",
    "    \"\"\"\n",
    "    \n",
    "    coeff_c = DataPMT.coeff_c.values.astype(np.double)\n",
    "    coeff_blr = DataPMT.coeff_blr.values.astype(np.double)\n",
    "    \n",
    "    if plot == True:\n",
    "        plt.figure(figsize=(12, 12))\n",
    "        \n",
    "    DIFF = []\n",
    "    for event in range(n_evt):\n",
    "        CWF = blr.deconv_pmt(pmtrwf[event], coeff_c, coeff_blr,\n",
    "                             n_baseline=28000, thr_trigger=5)\n",
    "        BLR = pmtblr[event]\n",
    "        \n",
    "        for i in range(len(BLR)):\n",
    "            t0, t1 = define_window(BLR[i], window_size)\n",
    "            if plot == True:\n",
    "                plt.subplot(3, 4, i+1)\n",
    "        \n",
    "                mpl.set_plot_labels(xlabel=\"samples\", ylabel=\"adc\")\n",
    "                plt.plot(BLR[i][t0:t1], label= 'BLR')\n",
    "                plt.plot(CWF[i][t0:t1], label= 'CWF')   \n",
    "                legend = plt.legend(loc='upper right')\n",
    "                for label in legend.get_texts():\n",
    "                    label.set_fontsize('small')\n",
    "        \n",
    "            diff = abs(np.sum(BLR[i][t0:t1]) - np.sum(CWF[i][t0:t1]))\n",
    "            diff = 100. * diff/np.sum(BLR)\n",
    "            DIFF.append(diff)\n",
    "        \n",
    "        plt.show()\n",
    "            \n",
    "    return np.array(DIFF)"
   ]
  },
  {
   "cell_type": "code",
   "execution_count": null,
   "metadata": {
    "collapsed": false
   },
   "outputs": [],
   "source": [
    "diff = compare_cwf_blr(n_evt=1, plot=True, window_size=120)"
   ]
  },
  {
   "cell_type": "markdown",
   "metadata": {
    "collapsed": false
   },
   "source": [
    "The set of plots above show, for one event:\n",
    "\n",
    "1. The BLR functions, which only include the effect of the LPF (no distortion).\n",
    "2. The CWF (in green) superimposed to the BLR (the eye cannot disitinguish one from the other)"
   ]
  },
  {
   "cell_type": "code",
   "execution_count": null,
   "metadata": {
    "collapsed": false
   },
   "outputs": [],
   "source": [
    "diff = compare_cwf_blr(n_evt=10, plot=False, window_size=120)"
   ]
  },
  {
   "cell_type": "code",
   "execution_count": null,
   "metadata": {
    "collapsed": false
   },
   "outputs": [],
   "source": [
    "mpl.histo(diff, nbins=10, \n",
    "          title=\"diff BLR-CWF\", xlabel=\"abs(e[blr] - e[cwf])\", ylabel=\"Frequency\")"
   ]
  },
  {
   "cell_type": "markdown",
   "metadata": {
    "collapsed": false
   },
   "source": [
    "The histogram above shows the difference (in %) between the BLR function (e.g, only the effect of LPF) and the CWF (e.g, corrected waveform). The CWF is the result of producing a RWF (through DIOMIRA) and then passing a baseline restoration algorithm. There are 12 entries (one per PMT) for each of the 10 events in the example file. The tipical difference in absolute value between the CWF and the BLR is of the order of 0.04 % and always smaller than 0.1%. "
   ]
  },
  {
   "cell_type": "markdown",
   "metadata": {
    "collapsed": false
   },
   "source": [
    "**draw a map of PMTS with signal for one event**"
   ]
  },
  {
   "cell_type": "code",
   "execution_count": null,
   "metadata": {
    "collapsed": false
   },
   "outputs": [],
   "source": [
    "snf.plot_sensor_list_ene_map(pmtblr[event], lrange(12), stype='PMT')"
   ]
  },
  {
   "cell_type": "markdown",
   "metadata": {
    "collapsed": false
   },
   "source": [
    "## Tracking plane"
   ]
  },
  {
   "cell_type": "markdown",
   "metadata": {
    "collapsed": false
   },
   "source": [
    "The tracking plane of NEW has 1792 SiPMs arranged in boards of 8x8 sensors. The SiPMs FEE runs at 1 MHz, providing one sample per microsecond.\n",
    "\n",
    "The simulatin of the SiPms is very simple. Each MCRD contains the true number of pes in the sensor. Then, for each sensor, gaussian noise (corresponding to electronics and sensor thermal noise) and dark current noise is added. This is done through a SiPm noise sampler class, which stores the pdf of the noise in each sensor (measured from data) and returns a sample of this pdf each time that is invoked. "
   ]
  },
  {
   "cell_type": "code",
   "execution_count": null,
   "metadata": {
    "collapsed": false
   },
   "outputs": [],
   "source": [
    "e40rd = tb.open_file(MCRD_file,'r+')\n",
    "NEVENTS_DST, NSIPM, SIPMWL = e40rd.root.sipmrd.shape"
   ]
  },
  {
   "cell_type": "code",
   "execution_count": null,
   "metadata": {
    "collapsed": false
   },
   "outputs": [],
   "source": [
    "print('number of SiPM = {}, waveform length = {}'.format(NSIPM,SIPMWL))"
   ]
  },
  {
   "cell_type": "code",
   "execution_count": null,
   "metadata": {
    "collapsed": false
   },
   "outputs": [],
   "source": [
    "DataSiPM = load_db.DataSiPM(0)\n",
    "sipm_adc_to_pes = DataSiPM.adc_to_pes.values.astype(np.double)"
   ]
  },
  {
   "cell_type": "markdown",
   "metadata": {
    "collapsed": false
   },
   "source": [
    "Conversion constants (number of adc counts per PES)"
   ]
  },
  {
   "cell_type": "code",
   "execution_count": null,
   "metadata": {
    "collapsed": false
   },
   "outputs": [],
   "source": [
    "plt.plot(sipm_adc_to_pes)"
   ]
  },
  {
   "cell_type": "markdown",
   "metadata": {
    "collapsed": false
   },
   "source": [
    "### Nb\n",
    "A few constants have values equal to zero, corresponding to dead SiPMs in the data. The average number of adc counts per pes is very flat (e.g, about the same for all SiPMs) and near 16. "
   ]
  },
  {
   "cell_type": "code",
   "execution_count": null,
   "metadata": {
    "collapsed": false
   },
   "outputs": [],
   "source": [
    "mpl.histo(sipm_adc_to_pes[sipm_adc_to_pes>0], nbins=20)"
   ]
  },
  {
   "cell_type": "code",
   "execution_count": null,
   "metadata": {
    "collapsed": false
   },
   "outputs": [],
   "source": [
    "np.mean(sipm_adc_to_pes[sipm_adc_to_pes>0])"
   ]
  },
  {
   "cell_type": "code",
   "execution_count": null,
   "metadata": {
    "collapsed": false
   },
   "outputs": [],
   "source": [
    "np.std(sipm_adc_to_pes[sipm_adc_to_pes>0])"
   ]
  },
  {
   "cell_type": "markdown",
   "metadata": {
    "collapsed": false
   },
   "source": [
    "Thus, one pes corresponds to 16 adc counts with a small rms of ~0.6 counts."
   ]
  },
  {
   "cell_type": "markdown",
   "metadata": {
    "collapsed": false
   },
   "source": [
    "### Simulation of the SiPM response"
   ]
  },
  {
   "cell_type": "markdown",
   "metadata": {
    "collapsed": false
   },
   "source": [
    "It is instructive to reproduce the simulation of the SiPM response from the MCRD, to study the dependence with noise."
   ]
  },
  {
   "cell_type": "code",
   "execution_count": null,
   "metadata": {
    "collapsed": false
   },
   "outputs": [],
   "source": [
    "def simulate_sipm_response(event, sipmrd, \n",
    "                           sipm_adc_to_pes,\n",
    "                           sipms_noise_sampler):\n",
    "        \"\"\"Add noise with the NoiseSampler class and return\n",
    "        the noisy waveform (in pes).\"\"\"\n",
    "        # add noise (in PES) to true waveform\n",
    "        dataSiPM = sipmrd[event] + sipms_noise_sampler.Sample()\n",
    "        # return total signal in adc counts\n",
    "        return wfm.to_adc(dataSiPM, sipm_adc_to_pes)"
   ]
  },
  {
   "cell_type": "code",
   "execution_count": null,
   "metadata": {
    "collapsed": false
   },
   "outputs": [],
   "source": [
    "noise_sampler = SiPMsNoiseSampler(SIPMWL, True)"
   ]
  },
  {
   "cell_type": "code",
   "execution_count": null,
   "metadata": {
    "collapsed": false
   },
   "outputs": [],
   "source": [
    "event=0\n",
    "sipmrwf = simulate_sipm_response(event, \n",
    "                                 e40rd.root.sipmrd, \n",
    "                                 sipm_adc_to_pes,\n",
    "                                 noise_sampler)"
   ]
  },
  {
   "cell_type": "markdown",
   "metadata": {
    "collapsed": false
   },
   "source": [
    "most of the SiPMs contain only noise"
   ]
  },
  {
   "cell_type": "code",
   "execution_count": null,
   "metadata": {
    "collapsed": false
   },
   "outputs": [],
   "source": [
    "plt.plot(sipmrwf[0])"
   ]
  },
  {
   "cell_type": "markdown",
   "metadata": {
    "collapsed": false
   },
   "source": [
    "###  NB: \n",
    "The noise distribution has an rms of about 3 counts, with dark current at the level of 1-2 pes (~30 adc counts) superimposed. "
   ]
  },
  {
   "cell_type": "markdown",
   "metadata": {
    "collapsed": false
   },
   "source": [
    "#### Find the SiPMs with signal"
   ]
  },
  {
   "cell_type": "markdown",
   "metadata": {
    "collapsed": false
   },
   "source": [
    "select sipms with more than 20 pes (e.g, 300 adc counts)"
   ]
  },
  {
   "cell_type": "code",
   "execution_count": null,
   "metadata": {
    "collapsed": false
   },
   "outputs": [],
   "source": [
    "sipm_i = snf.sipm_with_signal(sipmrwf, thr=300)"
   ]
  },
  {
   "cell_type": "code",
   "execution_count": null,
   "metadata": {
    "collapsed": false
   },
   "outputs": [],
   "source": [
    "sipm_i"
   ]
  },
  {
   "cell_type": "markdown",
   "metadata": {
    "collapsed": false
   },
   "source": [
    "**draw a map of SiPms with signal**"
   ]
  },
  {
   "cell_type": "code",
   "execution_count": null,
   "metadata": {
    "collapsed": false
   },
   "outputs": [],
   "source": [
    "snf.plot_sensor_list_ene_map(sipmrwf, sipm_i, stype='SiPM')"
   ]
  },
  {
   "cell_type": "markdown",
   "metadata": {
    "collapsed": false
   },
   "source": [
    "plot SiPMs with signal "
   ]
  },
  {
   "cell_type": "code",
   "execution_count": null,
   "metadata": {
    "collapsed": false
   },
   "outputs": [],
   "source": [
    "snf.plot_sipm_list(sipmrwf, sipm_i, x=4)"
   ]
  },
  {
   "cell_type": "code",
   "execution_count": null,
   "metadata": {
    "collapsed": false
   },
   "outputs": [],
   "source": [
    "esipm = np.array([np.sum(sipmrwf[i]) for i in sipm_i]) # in pes"
   ]
  },
  {
   "cell_type": "code",
   "execution_count": null,
   "metadata": {
    "collapsed": false
   },
   "outputs": [],
   "source": [
    "print(esipm/16.) # in adc counts"
   ]
  },
  {
   "cell_type": "code",
   "execution_count": null,
   "metadata": {
    "collapsed": false
   },
   "outputs": [],
   "source": [
    "mpl.histo(esipm/16., nbins=10)"
   ]
  },
  {
   "cell_type": "markdown",
   "metadata": {
    "collapsed": false
   },
   "source": [
    "#### NB\n",
    "We can see  that there is 1 SiPM that takes most of the signal, while the others have almost 5 time less. "
   ]
  },
  {
   "cell_type": "markdown",
   "metadata": {
    "collapsed": false
   },
   "source": [
    "#### Noise suppression\n",
    "\n",
    "In Diomira SiPms are stored after noise suppression. This is done as follows."
   ]
  },
  {
   "cell_type": "markdown",
   "metadata": {
    "collapsed": false
   },
   "source": [
    "First define sipm thresholds (in adc counts). As shown a cut on 20 pes is good "
   ]
  },
  {
   "cell_type": "code",
   "execution_count": null,
   "metadata": {
    "collapsed": false
   },
   "outputs": [],
   "source": [
    "sipm_noise_cut = 20\n",
    "sipms_thresholds = sipm_noise_cut *  sipm_adc_to_pes\n",
    "plt.plot(sipms_thresholds)"
   ]
  },
  {
   "cell_type": "markdown",
   "metadata": {
    "collapsed": false
   },
   "source": [
    "Second compute the number of SiPMs above threshold"
   ]
  },
  {
   "cell_type": "code",
   "execution_count": null,
   "metadata": {
    "collapsed": false
   },
   "outputs": [],
   "source": [
    "sipmzs = wfm.noise_suppression(sipmrwf, sipms_thresholds)"
   ]
  },
  {
   "cell_type": "markdown",
   "metadata": {
    "collapsed": false
   },
   "source": [
    "The sipmzs vector replaces by exact zeros those samples below threshold (this allows the compressor in pytables to save storage space). Thus, for example, the first sipm has no samples above threshold."
   ]
  },
  {
   "cell_type": "code",
   "execution_count": null,
   "metadata": {
    "collapsed": false
   },
   "outputs": [],
   "source": [
    "plt.plot(sipmzs[0])"
   ]
  },
  {
   "cell_type": "markdown",
   "metadata": {
    "collapsed": false
   },
   "source": [
    "while for sipm 696, we can see a clear signal above threshold. "
   ]
  },
  {
   "cell_type": "code",
   "execution_count": null,
   "metadata": {
    "collapsed": false
   },
   "outputs": [],
   "source": [
    "plt.plot(sipmzs[696])"
   ]
  },
  {
   "cell_type": "code",
   "execution_count": null,
   "metadata": {
    "collapsed": false
   },
   "outputs": [],
   "source": [
    "nof_sipm = snf.sipm_with_signal(sipmzs)"
   ]
  },
  {
   "cell_type": "code",
   "execution_count": null,
   "metadata": {
    "collapsed": false
   },
   "outputs": [],
   "source": [
    "print('number of sipm with signal = {}'.format(nof_sipm))"
   ]
  },
  {
   "cell_type": "code",
   "execution_count": null,
   "metadata": {
    "collapsed": false
   },
   "outputs": [],
   "source": [
    "snf.plot_sipm_list(sipmzs, nof_sipm, x=4)"
   ]
  },
  {
   "cell_type": "markdown",
   "metadata": {
    "collapsed": false
   },
   "source": [
    "## Case 2: electrons of 511 keV"
   ]
  },
  {
   "cell_type": "markdown",
   "metadata": {
    "collapsed": false
   },
   "source": [
    "Electrons of 511 keV generated at a fixed point in the chamber have the energy of photoelectric interacions due to Na-22 decays. S1 is larger and S2 is no longer point like, but the track is still relatively short. "
   ]
  },
  {
   "cell_type": "markdown",
   "metadata": {
    "collapsed": false
   },
   "source": [
    "### Input and output files"
   ]
  },
  {
   "cell_type": "code",
   "execution_count": null,
   "metadata": {
    "collapsed": false
   },
   "outputs": [],
   "source": [
    "MCRD_file = os.environ['IC_DATA']  + '/electrons_511keV_z250_MCRD.h5'\n",
    "RWF_file = os.environ['IC_DATA']  + '/electrons_511keV_z250_RWF.h5'"
   ]
  },
  {
   "cell_type": "markdown",
   "metadata": {
    "collapsed": false
   },
   "source": [
    "### Running diomira"
   ]
  },
  {
   "cell_type": "code",
   "execution_count": null,
   "metadata": {
    "collapsed": false,
    "scrolled": true
   },
   "outputs": [],
   "source": [
    "diomira_run(MCRD_file, RWF_file)"
   ]
  },
  {
   "cell_type": "code",
   "execution_count": null,
   "metadata": {
    "collapsed": false
   },
   "outputs": [],
   "source": [
    "pmtrwf, pmtblr, sipmrwf = tbl.get_vectors(tb.open_file(RWF_file,'r+'))"
   ]
  },
  {
   "cell_type": "markdown",
   "metadata": {
    "collapsed": false
   },
   "source": [
    "### Raw waveforms"
   ]
  },
  {
   "cell_type": "code",
   "execution_count": null,
   "metadata": {
    "collapsed": false
   },
   "outputs": [],
   "source": [
    "event = 0"
   ]
  },
  {
   "cell_type": "code",
   "execution_count": null,
   "metadata": {
    "collapsed": false
   },
   "outputs": [],
   "source": [
    "wfm.plot_pmt_waveforms(pmtrwf[event], zoom=False, window_size=400)"
   ]
  },
  {
   "cell_type": "code",
   "execution_count": null,
   "metadata": {
    "collapsed": false
   },
   "outputs": [],
   "source": [
    "wfm.plot_waveforms_overlap(pmtrwf[event], zoom=True, window_size=5000)"
   ]
  },
  {
   "cell_type": "markdown",
   "metadata": {
    "collapsed": false
   },
   "source": [
    "### Comparison between BLR and CWF"
   ]
  },
  {
   "cell_type": "code",
   "execution_count": null,
   "metadata": {
    "collapsed": false
   },
   "outputs": [],
   "source": [
    "diff = compare_cwf_blr(n_evt=1, plot=True, window_size=600)"
   ]
  },
  {
   "cell_type": "code",
   "execution_count": null,
   "metadata": {
    "collapsed": false
   },
   "outputs": [],
   "source": [
    "diff = compare_cwf_blr(n_evt=10, plot=False, window_size=600)"
   ]
  },
  {
   "cell_type": "code",
   "execution_count": null,
   "metadata": {
    "collapsed": false
   },
   "outputs": [],
   "source": [
    "mpl.histo(diff, nbins=10, \n",
    "          title=\"diff BLR-CWF\", xlabel=\"abs(e[blr] - e[cwf])\", ylabel=\"Frequency\")"
   ]
  },
  {
   "cell_type": "markdown",
   "metadata": {
    "collapsed": false
   },
   "source": [
    "### SiPMs"
   ]
  },
  {
   "cell_type": "code",
   "execution_count": null,
   "metadata": {
    "collapsed": false
   },
   "outputs": [],
   "source": [
    "event=0\n",
    "sipm_i = snf.sipm_with_signal(sipmrwf[event], thr=1) # already zs"
   ]
  },
  {
   "cell_type": "code",
   "execution_count": null,
   "metadata": {
    "collapsed": false
   },
   "outputs": [],
   "source": [
    "sipm_i"
   ]
  },
  {
   "cell_type": "code",
   "execution_count": null,
   "metadata": {
    "collapsed": false
   },
   "outputs": [],
   "source": [
    "snf.plot_sensor_list_ene_map(sipmrwf[event], sipm_i, stype='SiPM')"
   ]
  },
  {
   "cell_type": "code",
   "execution_count": null,
   "metadata": {
    "collapsed": false
   },
   "outputs": [],
   "source": [
    "snf.plot_sipm_list(sipmrwf[event], sipm_i, x=4)"
   ]
  },
  {
   "cell_type": "markdown",
   "metadata": {
    "collapsed": false
   },
   "source": [
    "## Case 3: electrons of 1250 keV"
   ]
  },
  {
   "cell_type": "markdown",
   "metadata": {
    "collapsed": false
   },
   "source": [
    "Electrons of intermediate energy, already a sizeable track"
   ]
  },
  {
   "cell_type": "code",
   "execution_count": null,
   "metadata": {
    "collapsed": false
   },
   "outputs": [],
   "source": [
    "MCRD_file = os.environ['IC_DATA']  + '/electrons_1250keV_z250_MCRD.h5'\n",
    "RWF_file = os.environ['IC_DATA']  + '/electrons_125keV_z250_RWF.h5'"
   ]
  },
  {
   "cell_type": "code",
   "execution_count": null,
   "metadata": {
    "collapsed": false
   },
   "outputs": [],
   "source": [
    "diomira_run(MCRD_file, RWF_file)"
   ]
  },
  {
   "cell_type": "code",
   "execution_count": null,
   "metadata": {
    "collapsed": false
   },
   "outputs": [],
   "source": [
    "pmtrwf, pmtblr, sipmrwf = tbl.get_vectors(tb.open_file(RWF_file,'r+'))"
   ]
  },
  {
   "cell_type": "code",
   "execution_count": null,
   "metadata": {
    "collapsed": false
   },
   "outputs": [],
   "source": [
    "event = 0"
   ]
  },
  {
   "cell_type": "code",
   "execution_count": null,
   "metadata": {
    "collapsed": false
   },
   "outputs": [],
   "source": [
    "wfm.plot_pmt_waveforms(pmtrwf[event], zoom=False, window_size=400)"
   ]
  },
  {
   "cell_type": "code",
   "execution_count": null,
   "metadata": {
    "collapsed": false
   },
   "outputs": [],
   "source": [
    "wfm.plot_waveforms_overlap(pmtrwf[event], zoom=True, window_size=5000)"
   ]
  },
  {
   "cell_type": "code",
   "execution_count": null,
   "metadata": {
    "collapsed": false
   },
   "outputs": [],
   "source": [
    "diff = compare_cwf_blr(n_evt=1, plot=True, window_size=2000)"
   ]
  },
  {
   "cell_type": "code",
   "execution_count": null,
   "metadata": {
    "collapsed": false
   },
   "outputs": [],
   "source": [
    "diff = compare_cwf_blr(n_evt=10, plot=False, window_size=2000)"
   ]
  },
  {
   "cell_type": "code",
   "execution_count": null,
   "metadata": {
    "collapsed": false
   },
   "outputs": [],
   "source": [
    "mpl.histo(diff, nbins=10, \n",
    "          title=\"diff BLR-CWF\", xlabel=\"abs(e[blr] - e[cwf])\", ylabel=\"Frequency\")"
   ]
  },
  {
   "cell_type": "code",
   "execution_count": null,
   "metadata": {
    "collapsed": false
   },
   "outputs": [],
   "source": [
    "sipm_i = snf.sipm_with_signal(sipmrwf[event], thr=1) # already zs"
   ]
  },
  {
   "cell_type": "code",
   "execution_count": null,
   "metadata": {
    "collapsed": false
   },
   "outputs": [],
   "source": [
    "sipm_i"
   ]
  },
  {
   "cell_type": "code",
   "execution_count": null,
   "metadata": {
    "collapsed": false
   },
   "outputs": [],
   "source": [
    "snf.plot_sensor_list_ene_map(sipmrwf[event], sipm_i, stype='SiPM')"
   ]
  },
  {
   "cell_type": "markdown",
   "metadata": {
    "collapsed": false
   },
   "source": [
    "## Case 4: electrons of 2500 keV"
   ]
  },
  {
   "cell_type": "markdown",
   "metadata": {
    "collapsed": false
   },
   "source": [
    "Electrons of 2500 keV correspond to the energy of signal region"
   ]
  },
  {
   "cell_type": "code",
   "execution_count": null,
   "metadata": {
    "collapsed": false
   },
   "outputs": [],
   "source": [
    "MCRD_file = os.environ['IC_DATA']  + '/electrons_2500keV_z250_MCRD.h5'\n",
    "RWF_file = os.environ['IC_DATA']  + '/electrons_250keV_z250_RWF.h5'"
   ]
  },
  {
   "cell_type": "code",
   "execution_count": null,
   "metadata": {
    "collapsed": false
   },
   "outputs": [],
   "source": [
    "diomira_run(MCRD_file, RWF_file)"
   ]
  },
  {
   "cell_type": "code",
   "execution_count": null,
   "metadata": {
    "collapsed": false
   },
   "outputs": [],
   "source": [
    "pmtrwf, pmtblr, sipmrwf = tbl.get_vectors(tb.open_file(RWF_file,'r+'))\n",
    "event = 0"
   ]
  },
  {
   "cell_type": "code",
   "execution_count": null,
   "metadata": {
    "collapsed": false
   },
   "outputs": [],
   "source": [
    "wfm.plot_pmt_waveforms(pmtrwf[event], zoom=False, window_size=400)"
   ]
  },
  {
   "cell_type": "code",
   "execution_count": null,
   "metadata": {
    "collapsed": false
   },
   "outputs": [],
   "source": [
    "wfm.plot_waveforms_overlap(pmtrwf[event], zoom=True, window_size=5000)"
   ]
  },
  {
   "cell_type": "code",
   "execution_count": null,
   "metadata": {
    "collapsed": false
   },
   "outputs": [],
   "source": [
    "diff = compare_cwf_blr(n_evt=1, plot=True, window_size=2000)"
   ]
  },
  {
   "cell_type": "code",
   "execution_count": null,
   "metadata": {
    "collapsed": false
   },
   "outputs": [],
   "source": [
    "diff = compare_cwf_blr(n_evt=10, plot=False, window_size=2000)"
   ]
  },
  {
   "cell_type": "code",
   "execution_count": null,
   "metadata": {
    "collapsed": false
   },
   "outputs": [],
   "source": [
    "mpl.histo(diff, nbins=10, \n",
    "          title=\"diff BLR-CWF\", xlabel=\"abs(e[blr] - e[cwf])\", ylabel=\"Frequency\")"
   ]
  },
  {
   "cell_type": "code",
   "execution_count": null,
   "metadata": {
    "collapsed": false
   },
   "outputs": [],
   "source": [
    "sipm_i = snf.sipm_with_signal(sipmrwf[event], thr=1) # already zs"
   ]
  },
  {
   "cell_type": "code",
   "execution_count": null,
   "metadata": {
    "collapsed": false
   },
   "outputs": [],
   "source": [
    "sipm_i"
   ]
  },
  {
   "cell_type": "code",
   "execution_count": null,
   "metadata": {
    "collapsed": false
   },
   "outputs": [],
   "source": [
    "snf.plot_sensor_list_ene_map(sipmrwf[event], sipm_i, stype='SiPM')"
   ]
  },
  {
   "cell_type": "markdown",
   "metadata": {
    "collapsed": false
   },
   "source": [
    "In conclusion the distortion introduced by the FEE (which DIOMIRA simulates in great detail) can be corrected by the deconvolution algorithm to an accuracy of less that 1 per mil. The deconvolution algorithm works well at all energies."
   ]
  },
  {
   "cell_type": "markdown",
   "metadata": {
    "collapsed": false
   },
   "source": [
    "A cut on some 20 pes in the SiPM energy supresses very effectively the noise leaving essentially only those SiPMs with signal and allowing very effective storage of the SiPM info. "
   ]
  },
  {
   "cell_type": "markdown",
   "metadata": {
    "collapsed": false
   },
   "source": [
    "#### End of NB"
   ]
  }
 ],
 "metadata": {
  "anaconda-cloud": {},
  "git": {
   "suppress_outputs": true
  },
  "kernelspec": {
   "display_name": "Python [conda env:IC3.5]",
   "language": "python",
   "name": "conda-env-IC3.5-py"
  },
  "language_info": {
   "codemirror_mode": {
    "name": "ipython",
    "version": 3
   },
   "file_extension": ".py",
   "mimetype": "text/x-python",
   "name": "python",
   "nbconvert_exporter": "python",
   "pygments_lexer": "ipython3",
   "version": "3.5.2"
  }
 },
 "nbformat": 4,
 "nbformat_minor": 2
}