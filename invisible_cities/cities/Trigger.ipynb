{
 "cells": [
  {
   "cell_type": "code",
   "execution_count": null,
   "metadata": {
    "collapsed": false
   },
   "outputs": [],
<<<<<<< HEAD
=======
   "source": [
    "from __future__ import print_function\n",
    "\n",
    "import sys\n",
    "from glob import glob\n",
    "from time import time\n",
    "\n",
    "import numpy as np\n",
    "import tables as tb\n",
    "\n",
    "from invisible_cities.core.configure import configure, print_configuration\n",
    "import invisible_cities.core.tbl_functions as tbl"
   ]
  },
  {
   "cell_type": "code",
   "execution_count": null,
   "metadata": {
    "collapsed": false
   },
   "outputs": [],
   "source": [
    "MCRD_file = '/Users/paola/Software/IC/data/dst_NEXT_v0_08_09_Na_INTERNALPORTANODE_196_0_7bar_MCRD_10000.root.h5'\n",
    "MCRD_cocinado_file = '/Users/paola/Software/IC/data/sodio_cocinado.h5'"
   ]
  },
  {
   "cell_type": "code",
   "execution_count": null,
   "metadata": {
    "collapsed": false
   },
   "outputs": [],
   "source": [
    "class Trigger:\n",
    "    \"\"\"\n",
    "    The city of TRIGGER simulates the trigger and pile-up (optional).\n",
    "\n",
    "    \"\"\"\n",
    "    def __init__(self):\n",
    "        \"\"\"\n",
    "        - Sets default values for state attributes\n",
    "        \"\"\"\n",
    "    # Set the machine default state\n",
    "        self.set_input_files_    = False\n",
    "        self.set_output_file_    = False\n",
    "\n",
    "\n",
    "    def set_input_files(self, input_files):\n",
    "        \"\"\"Set the input files.\"\"\"\n",
    "        self.input_files = input_files\n",
    "        self.set_input_files_ = True\n",
    "\n",
    "    def set_output_file(self, output_file, compression='ZLIB4'):\n",
    "        \"\"\"Set the output file.\"\"\"\n",
    " #       filename = output_file\n",
    "        self.compression = compression\n",
    "        self.h5out = tb.open_file(output_file, \"w\",\n",
    "                          filters=tbl.filters(compression))\n",
    "        self.set_output_file_ = True\n",
    "        \n",
    "    def set_print(self, nprint=10):\n",
    "        \"\"\"Print frequency.\"\"\"\n",
    "        self.nprint = nprint\n",
    "        \n",
    "    def run(self, nmax):\n",
    "        \"\"\"\n",
    "        Run the machine\n",
    "        nmax is the max number of events to run\n",
    "        \"\"\"\n",
    "        n_events_tot = 0\n",
    "        # run the machine only if in a legal state\n",
    "        if self.set_input_files_    == False:\n",
    "            raise IOError('must set input files before running')\n",
    "        if len(self.input_files)    == 0:\n",
    "            raise IOError('input file list is empty')\n",
    "        if self.set_output_file_    == False:\n",
    "            raise IOError('must set output file before running')\n",
    "        print(\"So far, so good\")\n",
    "        print(\"\"\"\n",
    "                 TRIGGER will run a max of {} events\n",
    "                 Input Files = {}\n",
    "                 Output File = {}\n",
    "                          \"\"\".format(nmax,\n",
    "                                     self.input_files,\n",
    "                                     self.h5out))\n",
    "        first=False\n",
    "        for cfile in self.input_files:\n",
    "            print(\"Opening file {}\".format(cfile))\n",
    "            try:\n",
    "                with tb.open_file(cfile, \"r+\") as h5in:\n",
    "                    pmtrd  = h5in.root.pmtrd\n",
    "                    sipmrd = h5in.root.sipmrd\n",
    "                    nevts_pmt, npmts, pmt_wndw_length = pmtrd.shape\n",
    "                    nevts_sipm, nsipm, sipm_wndw_length = sipmrd.shape\n",
    "                    print(nevts_pmt, npmts, pmt_wndw_length)\n",
    "                    \n",
    "                    if first == False:                       \n",
    "                        # create vectors\n",
    "                        self.pmtrwf = self.h5out.create_earray(\n",
    "                                    h5out.root,\n",
    "                                    \"pmttrigwf\",\n",
    "                                    atom=tb.Int16Atom(),\n",
    "                                    shape=(0, npmts, pmt_wndw_length),\n",
    "                                    expectedrows=nmax,\n",
    "                                    filters=tbl.filters(self.compression))\n",
    "                        self.sipmrwf = self.h5out.create_earray(\n",
    "                                    h5out.root,\n",
    "                                    \"sipmtrigwf\",\n",
    "                                    atom=tb.Int16Atom(),\n",
    "                                    shape=(0, nsipms, sipm_wndw_length),\n",
    "                                    expectedrows=nmax,\n",
    "                                    filters=tbl.filters(self.compression))\n",
    "                        first = True\n",
    "                        \n",
    "                    for evt in range(nevts_pmt):\n",
    "            except:\n",
    "                print('error')\n",
    "                raise\n",
    "        "
   ]
  },
  {
   "cell_type": "code",
   "execution_count": null,
   "metadata": {
    "collapsed": false
   },
   "outputs": [],
   "source": [
    "# init machine\n",
    "fpp = Trigger()\n",
    "    # set machine state \n",
    "fpp.set_input_files([MCRD_file])\n",
    "fpp.set_output_file(MCRD_cocinado_file, compression='ZLIB4')\n",
    "fpp.set_print(1)\n",
    "\n"
   ]
  },
  {
   "cell_type": "code",
   "execution_count": null,
   "metadata": {
    "collapsed": false
   },
   "outputs": [],
   "source": [
    "# run for 10 evts\n",
    "t0 = time()\n",
    "fpp.run(nmax=10)\n",
    "t1 = time()\n",
    "dt = t1 - t0\n",
    "nevts=10\n",
    "print(\"TRIGGER run {} evts in {} s, time/event = {}\".\\\n",
    "          format(nevts, dt, dt/nevts))"
   ]
  },
  {
   "cell_type": "code",
   "execution_count": null,
   "metadata": {
    "collapsed": false
   },
   "outputs": [],
>>>>>>> First draft of trigger module + notebook to play
   "source": []
  }
 ],
 "metadata": {
  "kernelspec": {
   "display_name": "Python 3",
   "language": "python",
   "name": "python3"
  },
  "language_info": {
   "codemirror_mode": {
    "name": "ipython",
    "version": 3
   },
   "file_extension": ".py",
   "mimetype": "text/x-python",
   "name": "python",
   "nbconvert_exporter": "python",
   "pygments_lexer": "ipython3",
   "version": "3.5.2"
  }
 },
 "nbformat": 4,
 "nbformat_minor": 2
}
