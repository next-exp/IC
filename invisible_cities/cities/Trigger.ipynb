{
 "cells": [
  {
   "cell_type": "code",
   "execution_count": null,
   "metadata": {
    "collapsed": false
   },
   "outputs": [],
<<<<<<< HEAD
=======
   "source": [
    "from __future__ import print_function\n",
    "\n",
    "import sys\n",
    "import os\n",
    "from glob import glob\n",
    "from time import time\n",
    "import timeit\n",
    "from timeit import default_timer as timer\n",
    "\n",
    "import numpy as np\n",
    "import tables as tb\n",
    "import random as rand\n",
    "from scipy.ndimage.interpolation import shift\n",
    "\n",
    "from invisible_cities.core.configure import configure, print_configuration\n",
    "import invisible_cities.core.tbl_functions as tbl\n",
    "from   invisible_cities.core.system_of_units_c import SystemOfUnits"
   ]
  },
  {
   "cell_type": "code",
   "execution_count": null,
   "metadata": {
    "collapsed": false
   },
   "outputs": [],
   "source": []
  },
  {
   "cell_type": "code",
   "execution_count": null,
   "metadata": {
    "collapsed": false
   },
   "outputs": [],
   "source": [
    "units = SystemOfUnits"
   ]
  },
  {
   "cell_type": "code",
   "execution_count": null,
   "metadata": {
    "collapsed": false
   },
   "outputs": [],
   "source": [
    "MCRD_file = '/Users/paola/Software/IC/data/dst_NEXT_v0_08_09_Na_INTERNALPORTANODE_196_0_7bar_MCRD_10000.root.h5'\n",
    "MCRD_cocinado_file = '/Users/paola/Software/IC/data/sodio_cocinado.h5'"
   ]
  },
  {
   "cell_type": "code",
   "execution_count": null,
   "metadata": {
    "collapsed": false
   },
   "outputs": [],
   "source": [
    "mean_evts_per_wndw = 0.9\n",
    "s1_pos = 600000."
   ]
  },
  {
   "cell_type": "code",
   "execution_count": null,
   "metadata": {
    "collapsed": false
   },
   "outputs": [],
   "source": [
    "# This code assumes the following:\n",
    "# 1. Every input MCRD has S1 placed in the same bin (passed via config file)\n",
    "# 2. "
   ]
  },
  {
   "cell_type": "code",
   "execution_count": null,
   "metadata": {
    "collapsed": false
   },
   "outputs": [],
   "source": [
    "def make_adder(n):\n",
    "    def adder(t):\n",
    "        mysum = t[0]\n",
    "        for i in range(1,n):\n",
    "            mysum = np.add(t[i],mysum)\n",
    "        return mysum\n",
    "    return adder"
   ]
  },
  {
   "cell_type": "code",
   "execution_count": null,
   "metadata": {
    "collapsed": false
   },
   "outputs": [],
   "source": [
    "class Mixer:\n",
    "    \"\"\"\n",
    "    The city of MIXER simulates the pile-up.\n",
    "\n",
    "    \"\"\"\n",
    "    def __init__(self, mean_evts_per_wndw, s1_pos):\n",
    "        \"\"\"\n",
    "        - Sets default values for state attributes\n",
    "        \"\"\"\n",
    "        self.mean_evts_per_wndw = mean_evts_per_wndw\n",
    "        self.s1pos = s1_pos\n",
    "    # Set the machine default state\n",
    "        self.set_input_files_    = False\n",
    "        self.set_output_file_    = False\n",
    "\n",
    "\n",
    "    def set_input_files(self, input_files):\n",
    "        \"\"\"Set the input files.\"\"\"\n",
    "        self.input_files = input_files\n",
    "        self.set_input_files_ = True\n",
    "\n",
    "    def set_output_file(self, output_file, compression='ZLIB4'):\n",
    "        \"\"\"Set the output file.\"\"\"\n",
    " #       filename = output_file\n",
    "        self.compression = compression\n",
    "        self.h5out = tb.open_file(output_file, \"w\",\n",
    "                          filters=tbl.filters(compression))\n",
    "        self.set_output_file_ = True\n",
    "        \n",
    "#    def set_activity(self, activity):\n",
    "#        \"\"\"Set the input files.\"\"\"\n",
    "#        self.activity = activity\n",
    "#        self.set_activity_ = True\n",
    "        \n",
    "    def set_print(self, nprint=10):\n",
    "        \"\"\"Print frequency.\"\"\"\n",
    "        self.nprint = nprint\n",
    "        \n",
    "        \n",
    "    def run(self, nmax):\n",
    "        \"\"\"\n",
    "        Run the machine\n",
    "        nmax is the max number of events to run\n",
    "        \"\"\"\n",
    "        n_events_tot = 0\n",
    "        # run the machine only if in a legal state\n",
    "        if self.set_input_files_    == False:\n",
    "            raise IOError('must set input files before running')\n",
    "        if len(self.input_files)    == 0:\n",
    "            raise IOError('input file list is empty')\n",
    "        if self.set_output_file_    == False:\n",
    "            raise IOError('must set output file before running')\n",
    "        print(\"So far, so good\")\n",
    "        print(\"\"\"\n",
    "                 MIXER will run a max of {} events\n",
    "                 Input Files = {}\n",
    "                 Output File = {}\n",
    "                          \"\"\".format(nmax,\n",
    "                                     self.input_files,\n",
    "                                     self.h5out))\n",
    "        first=False\n",
    "        for cfile in self.input_files:\n",
    "            print(\"Opening file {}\".format(cfile))\n",
    "            try:\n",
    "                with tb.open_file(cfile, \"r+\") as h5in:\n",
    "                    pmtrd  = h5in.root.pmtrd\n",
    "                    sipmrd = h5in.root.sipmrd\n",
    "                    nevts_pmt, npmts, pmt_wndw_length = pmtrd.shape\n",
    "                    nevts_sipm, nsipms, sipm_wndw_length = sipmrd.shape\n",
    "                    print(nevts_pmt, npmts, pmt_wndw_length)\n",
    "                    \n",
    "                    if first == False:                       \n",
    "                        # create vectors;\n",
    "                        self.pmtmwf = self.h5out.create_earray(\n",
    "                                    self.h5out.root,\n",
    "                                    \"pmtmixedwf\",\n",
    "                                    atom=tb.Int16Atom(),\n",
    "                                    shape=(0, npmts, pmt_wndw_length),\n",
    "                                    expectedrows=nmax,\n",
    "                                    filters=tbl.filters(self.compression))\n",
    "                        self.sipmmwf = self.h5out.create_earray(\n",
    "                                    self.h5out.root,\n",
    "                                    \"sipmmixedwf\",\n",
    "                                    atom=tb.Int16Atom(),\n",
    "                                    shape=(0, nsipms, sipm_wndw_length),\n",
    "                                    expectedrows=nmax,\n",
    "                                    filters=tbl.filters(self.compression))\n",
    "                        first = True\n",
    "                        \n",
    "#                    for evt in range(nevts_pmt):\n",
    "                    evt = 0\n",
    "                    while evt < nevts_pmt:  \n",
    "                        print ('Evt at the beginning = {}'.format(evt))\n",
    "                        ndecays = np.random.poisson(mean_evts_per_wndw)\n",
    "                        print ('Number of decays = {}'.format(ndecays))\n",
    "                        if ndecays > 1:\n",
    "                            times = []\n",
    "                            for d in range(ndecays):\n",
    "                                times.append(rand.randrange(0, pmt_wndw_length))\n",
    "                                print ('Time = {}'.format(rand.randrange(0, pmt_wndw_length)))\n",
    "                            mwvfs = []\n",
    "                            for pmt in range(npmts):\n",
    " #                               same_wndw_wvfs = []\n",
    " #                               shift(mywvf, self.s1pos-times[d], cval=0)\n",
    "                                merged_wvf = shift(pmtrd[evt, pmt], times[0]-self.s1pos, cval=0)\n",
    "        \n",
    "                                for d in range(1,ndecays):\n",
    "                                   merged_wvf = np.add(shift(pmtrd[evt+d, pmt], times[d]-self.s1pos, cval=0), merged_wvf)\n",
    "                                \n",
    "#                                print ('PMT index = {}'.format(pmt))\n",
    "#                                merged_wvf = np.zeros(pmt_wndw_length)\n",
    "#                                for i in range(pmt_wndw_length):\n",
    "#                                    print ('Wvf index = {}'.format(i))\n",
    "#                                    for d in range(ndecays):\n",
    "#                                        wvf = pmtrd[evt+d, pmt]\n",
    "#                                        if self.s1pos-times[d]+i >= 0 and self.s1pos-times[d]+i < pmt_wndw_length:\n",
    "#                                            merged_wvf[i] += wvf[self.s1pos-times[d]+i]\n",
    "                                mwvfs.append(merged_wvf)\n",
    "                            self.pmtmwf.append(np.array(mwvfs).astype(int).reshape(1, npmts, pmt_wndw_length))\n",
    "                        elif ndecays == 1:\n",
    "                            self.pmtmwf.append(np.array(pmtrd[evt]).astype(int).reshape(1, npmts, pmt_wndw_length))\n",
    "    \n",
    "                        evt += ndecays\n",
    "                        print('Evt = {}'.format(evt))\n",
    "                        n_events_tot +=1\n",
    "                        print('n_events = {}'.format(n_events_tot))\n",
    "                        if n_events_tot%self.nprint == 0:\n",
    "                            print('event in file = {}, total = {}'.\\\n",
    "                              format(evt, n_events_tot))\n",
    "\n",
    "                        if n_events_tot >= nmax and nmax > -1:\n",
    "                            print('reached maximum number of events (={})'.\\\n",
    "                                  format(nmax))\n",
    "                            break\n",
    "                        \n",
    "            except:\n",
    "                print('error')\n",
    "                raise\n",
    "        "
   ]
  },
  {
   "cell_type": "code",
   "execution_count": null,
   "metadata": {
    "collapsed": false
   },
   "outputs": [],
   "source": [
    "# If the output file is already open, close it, otherwise, go on\n",
    "try:\n",
    "    fpp.h5out.close()\n",
    "except:\n",
    "    pass\n",
    "fpp = Mixer(mean_evts_per_wndw, s1_pos)"
   ]
  },
  {
   "cell_type": "code",
   "execution_count": null,
   "metadata": {
    "collapsed": false
   },
   "outputs": [],
   "source": [
    "# init machine\n",
    "\n",
    "    # set machine state \n",
    "fpp.set_input_files([MCRD_file])\n",
    "fpp.set_output_file(MCRD_cocinado_file, compression='ZLIB4')\n",
    "#fpp.set_activity(750000*units.Bq)\n",
    "fpp.set_print(1)\n",
    "\n"
   ]
  },
  {
   "cell_type": "code",
   "execution_count": null,
   "metadata": {
    "collapsed": false
   },
   "outputs": [],
   "source": [
    "# run for 10 evts\n",
    "t0 = time()\n",
    "fpp.run(nmax=20)\n",
    "t1 = time()\n",
    "dt = t1 - t0\n",
    "nevts=10\n",
    "print(\"MIXER run {} evts in {} s, time/event = {}\".\\\n",
    "          format(nevts, dt, dt/nevts))"
   ]
  },
  {
   "cell_type": "code",
   "execution_count": null,
   "metadata": {
    "collapsed": false
   },
   "outputs": [],
>>>>>>> First draft of trigger module + notebook to play
   "source": []
  },
  {
   "cell_type": "code",
   "execution_count": null,
   "metadata": {
    "collapsed": false
   },
   "outputs": [],
   "source": [
    "def myfunc():\n",
    "    elle=1200000\n",
    "    f=100000\n",
    "    t0 = time()\n",
    "    x1=np.ones(elle)\n",
    "    x2=np.ones(elle)\n",
    "    merged_wvf = shift(x1, 2*f-6*f, cval=0)\n",
    "    #print(merged_wvf)\n",
    "    merged_wvf = np.add(shift(x2, 8*f-6*f, cval=0), merged_wvf)\n",
    "    t1 = time()\n",
    "    #print(\"Run in {} s\".format(t1-t0))\n",
    "    #print(merged_wvf)"
   ]
  },
  {
   "cell_type": "code",
   "execution_count": null,
   "metadata": {
    "collapsed": false
   },
   "outputs": [],
   "source": [
    "%timeit myfunc()"
   ]
  },
  {
   "cell_type": "code",
   "execution_count": null,
   "metadata": {
    "collapsed": false
   },
   "outputs": [],
   "source": [
    "start = timer()\n",
    "myfunc()\n",
    "dt = timer() - start\n",
    "print(\"Run in %f s\" % dt)"
   ]
  },
  {
   "cell_type": "code",
   "execution_count": null,
   "metadata": {
    "collapsed": false
   },
   "outputs": [],
   "source": [
    "start = timer()\n",
    "elle=1200000\n",
    "f=100000\n",
    "t0 = time()\n",
    "merged_wvf = np.zeros(elle)\n",
    "x1=np.ones(elle)\n",
    "x2=np.ones(elle)\n",
    "for i in range(elle):\n",
    "#    print ('Wvf index = {}'.format(i))\n",
    "    if 6*f-2*f+i >= 0 and 6*f-2*f+i < elle:\n",
    "        merged_wvf[i] += x1[6*f-2*f+i]\n",
    "    if 6*f-8*f+i >= 0 and 6*f-8*f+i < elle:\n",
    "        merged_wvf[i] += x2[6*f-8*f+i]\n",
    "        \n",
    "t1 = time()\n",
    "dt = timer() - start\n",
    "print(\"Run in %f s\" % dt)\n",
    "print(\"Run in {} s\".format(t1-t0))\n",
    "#print(merged_wvf)"
   ]
  },
  {
   "cell_type": "code",
   "execution_count": null,
   "metadata": {
    "collapsed": false
   },
   "outputs": [],
   "source": []
  }
 ],
 "metadata": {
  "kernelspec": {
   "display_name": "Python 3",
   "language": "python",
   "name": "python3"
  },
  "language_info": {
   "codemirror_mode": {
    "name": "ipython",
    "version": 3
   },
   "file_extension": ".py",
   "mimetype": "text/x-python",
   "name": "python",
   "nbconvert_exporter": "python",
   "pygments_lexer": "ipython3",
   "version": "3.5.2"
  }
 },
 "nbformat": 4,
 "nbformat_minor": 2
}
